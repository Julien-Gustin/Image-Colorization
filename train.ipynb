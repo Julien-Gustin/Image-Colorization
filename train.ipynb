{
 "cells": [
  {
   "cell_type": "code",
   "execution_count": null,
   "metadata": {},
   "outputs": [],
   "source": [
    "!pip install scikit-image\n",
    "!pip install jupyter"
   ]
  },
  {
   "cell_type": "code",
   "execution_count": null,
   "metadata": {},
   "outputs": [],
   "source": [
    "import torch.utils.data as data\n",
    "\n",
    "from python.data.dataset import *\n",
    "from python.models.generator import UNet\n",
    "from python.models.discriminator import PatchGAN\n",
    "from python.models.utils import init_weights\n",
    "from python.train.trainer import *\n",
    "\n",
    "import sys\n",
    "\n",
    "SEED = 42\n",
    "torch.cuda.manual_seed(SEED)\n",
    "torch.cuda.manual_seed_all(SEED)\n",
    "np.random.seed(SEED)\n",
    "\n",
    "# if needed\n",
    "# log = open(\"train.log\", \"a\") \n",
    "# sys.stdout = log\n",
    "\n",
    "device = torch.device(\"cuda\" if torch.cuda.is_available() else \"cpu\")"
   ]
  },
  {
   "cell_type": "code",
   "execution_count": null,
   "metadata": {},
   "outputs": [],
   "source": [
    "dataset = \"data/Coco\"\n",
    "version = \"2017\"\n",
    "\n",
    "dataset_train = CocoLab(dataset, version=version, size=256, train=True)\n",
    "train_loader = data.DataLoader(dataset_train, batch_size=4, shuffle=True, num_workers=4)\n",
    "\n",
    "dataset_test = CocoLab(dataset, version=version, size=256, train=False)\n",
    "test_loader = data.DataLoader(dataset_test, batch_size=4, shuffle=True, num_workers=4)"
   ]
  },
  {
   "cell_type": "code",
   "execution_count": null,
   "metadata": {},
   "outputs": [],
   "source": [
    "generator = UNet(1, 2).to(device)\n",
    "discriminator = PatchGAN(3).to(device)\n",
    "\n",
    "generator.apply(init_weights) # init weights with a gaussian distribution centered at 0, and std=0.02\n",
    "discriminator.apply(init_weights) # init weights with a gaussian distribution centered at 0, and std=0.02"
   ]
  },
  {
   "cell_type": "markdown",
   "metadata": {},
   "source": [
    "### Pretrain"
   ]
  },
  {
   "cell_type": "code",
   "execution_count": null,
   "metadata": {},
   "outputs": [],
   "source": [
    "trainer = Pretrain(generator, test_loader, train_loader)"
   ]
  },
  {
   "cell_type": "code",
   "execution_count": null,
   "metadata": {},
   "outputs": [],
   "source": [
    "trainer.train(2, \"l1\", generator_file=\"test\")"
   ]
  },
  {
   "cell_type": "code",
   "execution_count": null,
   "metadata": {},
   "outputs": [],
   "source": [
    "trainer.make_plot(\"test\")"
   ]
  },
  {
   "cell_type": "markdown",
   "metadata": {},
   "source": [
    "### Train with GAN"
   ]
  },
  {
   "cell_type": "code",
   "execution_count": null,
   "metadata": {},
   "outputs": [],
   "source": [
    "trainer = GanTrain(generator, discriminator, test_loader, train_loader, reg_R1=True)"
   ]
  },
  {
   "cell_type": "code",
   "execution_count": null,
   "metadata": {},
   "outputs": [],
   "source": [
    "trainer.train(2, generator_file=\"generator\", discriminator_file=\"discriminator\", file_name=\"gan_no_r1\",)"
   ]
  },
  {
   "cell_type": "code",
   "execution_count": null,
   "metadata": {},
   "outputs": [],
   "source": [
    "trainer.make_plot(\"test\")"
   ]
  }
 ],
 "metadata": {
  "interpreter": {
   "hash": "065a011842d8ebed5411ae20512699c924712cb68d88b87277223edbfe72c920"
  },
  "kernelspec": {
   "display_name": "Python 3.9.10 ('deep_learning')",
   "language": "python",
   "name": "python3"
  },
  "language_info": {
   "codemirror_mode": {
    "name": "ipython",
    "version": 3
   },
   "file_extension": ".py",
   "mimetype": "text/x-python",
   "name": "python",
   "nbconvert_exporter": "python",
   "pygments_lexer": "ipython3",
   "version": "3.9.10"
  },
  "orig_nbformat": 4
 },
 "nbformat": 4,
 "nbformat_minor": 2
}
