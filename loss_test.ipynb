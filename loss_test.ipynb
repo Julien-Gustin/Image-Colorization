{
 "cells": [
  {
   "cell_type": "markdown",
   "metadata": {},
   "source": [
    "# Testing the different losses"
   ]
  },
  {
   "cell_type": "code",
   "execution_count": 5,
   "metadata": {},
   "outputs": [],
   "source": [
    "from models.loss import *\n",
    "import torch"
   ]
  },
  {
   "cell_type": "code",
   "execution_count": 6,
   "metadata": {},
   "outputs": [
    {
     "name": "stdout",
     "output_type": "stream",
     "text": [
      "loss_fake :  tensor(-0.1054)\n",
      "loss_true :  tensor(-2.3026)\n"
     ]
    }
   ],
   "source": [
    "# Toy 1\n",
    "#preds : un vecteur simulant des prédictions d'un batch de taille 3\n",
    "preds = torch.tensor([[[0.1], [0.1], [0.1]]])\n",
    "cGAN_criterion = cGAN_loss()\n",
    "\n",
    "loss_fake = cGAN_criterion(preds, target_is_real=False) # calcul E_{x,z} [log(1 - D(x,G(x,z)))] si preds est le vecteurs contenant D(x,G(x,z))\n",
    "                                                        ## ici, loss_fake = (log(1-0.1)+log(1-0.1)+log(1-0.1))/3\n",
    "print(\"loss_fake : \", loss_fake)\n",
    "\n",
    "loss_true = cGAN_criterion(preds, target_is_real=True)  # calcul E_{x,y} [log(D(x,y))] si preds est le vecteurs contenant D(x,y)\n",
    "                                                        ## ici, loss_true = (log(0.1))+log(0.1))+log(0.1)))/3\n",
    "print(\"loss_true : \", loss_true)\n",
    "\n",
    "#le vecteur preds ayant des valeurs proche de 0, c'est comme si le discriminant prédisait \"Fake\"\n",
    "# grand loss_fake -> le discriminant a raison\n",
    "# petit loss_fake pro -> le discriminant a tord"
   ]
  },
  {
   "cell_type": "code",
   "execution_count": 7,
   "metadata": {},
   "outputs": [
    {
     "data": {
      "text/plain": [
       "torch.Size([4, 30, 1])"
      ]
     },
     "execution_count": 7,
     "metadata": {},
     "output_type": "execute_result"
    }
   ],
   "source": [
    "#Toy 2\n",
    "# preds : un vecteur simulant les 30 prédiction du discriminator pour un batch de 4. les valeurs sont proches de 0 -> le discriminant dit que c'est fake\n",
    "preds = torch.tensor([[[0.1], [0.4], [0.5], [0.1], [0.2],[0.1], [0.4], [0.5], [0.1], [0.2],\n",
    "                      [0.1], [0.4], [0.5], [0.1], [0.2],[0.1], [0.4], [0.5], [0.1], [0.2],\n",
    "                      [0.1], [0.4], [0.5], [0.1], [0.2],[0.1], [0.4], [0.5], [0.1], [0.2]],\n",
    "\n",
    "                      [[0.1], [0.4], [0.5], [0.1], [0.2],[0.1], [0.4], [0.5], [0.1], [0.2],\n",
    "                      [0.1], [0.4], [0.5], [0.1], [0.2],[0.1], [0.4], [0.5], [0.1], [0.2],\n",
    "                      [0.1], [0.4], [0.5], [0.1], [0.2],[0.1], [0.4], [0.5], [0.1], [0.2]],\n",
    "\n",
    "                      [[0.1], [0.2], [0.5], [0.1], [0.2],[0.1], [0.1], [0.1], [0.1], [0.2],\n",
    "                      [0.1], [0.2], [0.5], [0.1], [0.2],[0.1], [0.1], [0.1], [0.1], [0.2],\n",
    "                      [0.1], [0.2], [0.5], [0.1], [0.2],[0.1], [0.1], [0.1], [0.1], [0.2]],\n",
    "\n",
    "                      [[0.2], [0.4], [0.2], [0.1], [0.2],[0.1], [0.4], [0.3], [0.1], [0.2],\n",
    "                      [0.2], [0.4], [0.2], [0.1], [0.2],[0.1], [0.4], [0.3], [0.1], [0.2],\n",
    "                      [0.2], [0.4], [0.2], [0.1], [0.2],[0.1], [0.4], [0.3], [0.1], [0.2]]]) \n",
    "preds.shape"
   ]
  },
  {
   "cell_type": "code",
   "execution_count": 8,
   "metadata": {},
   "outputs": [
    {
     "name": "stdout",
     "output_type": "stream",
     "text": [
      "loss_fake :  tensor(-0.2783)\n",
      "loss_true :  tensor(-1.6754)\n"
     ]
    }
   ],
   "source": [
    "cGAN_criterion = cGAN_loss()\n",
    "\n",
    "loss_fake = cGAN_criterion(preds, target_is_real=False) # calcul E_{x,z} [log(1 - D(x,G(x,z)))] si preds est le vecteurs contenant D(x,G(x,z))\n",
    "print(\"loss_fake : \", loss_fake)\n",
    "\n",
    "loss_true = cGAN_criterion(preds, target_is_real=True) # calcul E_{x,y} [log(D(x,y))] si preds est le vecteurs contenant D(x,y)\n",
    "print(\"loss_true : \", loss_true)\n",
    "\n",
    "#le vecteur preds ayant des valeurs proche de 0, c'est comme si le discriminant prédisait \"Fake\"\n",
    "# grand loss_fake -> le discriminant a raison\n",
    "# petit loss_fake pro -> le discriminant a tord"
   ]
  },
  {
   "cell_type": "code",
   "execution_count": null,
   "metadata": {},
   "outputs": [],
   "source": []
  }
 ],
 "metadata": {
  "interpreter": {
   "hash": "065a011842d8ebed5411ae20512699c924712cb68d88b87277223edbfe72c920"
  },
  "kernelspec": {
   "display_name": "Python 3.9.10 ('deep_learning')",
   "language": "python",
   "name": "python3"
  },
  "language_info": {
   "codemirror_mode": {
    "name": "ipython",
    "version": 3
   },
   "file_extension": ".py",
   "mimetype": "text/x-python",
   "name": "python",
   "nbconvert_exporter": "python",
   "pygments_lexer": "ipython3",
   "version": "3.9.7"
  },
  "orig_nbformat": 4
 },
 "nbformat": 4,
 "nbformat_minor": 2
}
