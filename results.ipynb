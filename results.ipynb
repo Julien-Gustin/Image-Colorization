{
 "cells": [
  {
   "cell_type": "code",
   "execution_count": null,
   "metadata": {},
   "outputs": [],
   "source": [
    "dataset = \"data/Coco\"\n",
    "version = \"2017\""
   ]
  },
  {
   "cell_type": "code",
   "execution_count": null,
   "metadata": {},
   "outputs": [],
   "source": [
    "import torch\n",
    "import torch.utils.data as data\n",
    "from python.data.dataset import *\n",
    "from python.models.generator import UNet\n",
    "from python.models.discriminator import PatchGAN\n",
    "from python.utils.images import *\n",
    "from python.train.trainer import *\n",
    "from tqdm.notebook import tqdm\n",
    "from python.eval.evaluation import Evalutation\n",
    "\n",
    "device = torch.device(\"cuda\" if torch.cuda.is_available() else \"cpu\")\n",
    "generator = UNet(1, 2).train()\n",
    "generator.load_state_dict(torch.load(\"saves/cGan_100_R1/saved_models/generator_best_10\", map_location=device))"
   ]
  },
  {
   "cell_type": "code",
   "execution_count": null,
   "metadata": {},
   "outputs": [],
   "source": [
    "dataset_val= CocoLab(dataset, splits=\"test\", version=version, size=256)\n",
    "val_loader = data.DataLoader(dataset_val, batch_size=1, shuffle=True, num_workers=2)"
   ]
  },
  {
   "cell_type": "code",
   "execution_count": null,
   "metadata": {},
   "outputs": [],
   "source": [
    "multi_plot(val_loader, generator, rows=1)"
   ]
  },
  {
   "cell_type": "code",
   "execution_count": null,
   "metadata": {},
   "outputs": [],
   "source": [
    "L, real_ab = next(iter(val_loader))\n",
    "fake_ab = generator(L.to(device)).detach().to(\"cpu\")\n",
    "evaluation = Evalutation()\n",
    "evaluation.eval(L, real_ab, fake_ab)"
   ]
  },
  {
   "cell_type": "code",
   "execution_count": null,
   "metadata": {},
   "outputs": [],
   "source": [
    "dataset_test= CocoLab(dataset, splits=\"test\", version=version, size=256)\n",
    "test_loader = data.DataLoader(dataset_test, batch_size=1, shuffle=True, num_workers=4)"
   ]
  },
  {
   "cell_type": "code",
   "execution_count": null,
   "metadata": {},
   "outputs": [],
   "source": [
    "evaluation = Evalutation()\n",
    "evaluations = torch.zeros(len(test_loader), 2)\n",
    "with torch.no_grad():\n",
    "    for i, (L, ab) in enumerate(test_loader):\n",
    "        print(\"\\r\", i, \"/\", len(test_loader), end=\"\\r\")\n",
    "        fake_ab = generator(L.to(device))\n",
    "        evaluations[i] = evaluation.eval(L, ab, fake_ab)"
   ]
  },
  {
   "cell_type": "code",
   "execution_count": null,
   "metadata": {},
   "outputs": [],
   "source": []
  }
 ],
 "metadata": {
  "interpreter": {
   "hash": "ab506c54e6c17d8f79536a2d17ae8efc1e1832069b7e1017a1d4a6cb95708c0f"
  },
  "kernelspec": {
   "display_name": "Python 3.7.10 ('AI')",
   "language": "python",
   "name": "python3"
  },
  "language_info": {
   "codemirror_mode": {
    "name": "ipython",
    "version": 3
   },
   "file_extension": ".py",
   "mimetype": "text/x-python",
   "name": "python",
   "nbconvert_exporter": "python",
   "pygments_lexer": "ipython3",
   "version": "3.9.10"
  },
  "orig_nbformat": 4
 },
 "nbformat": 4,
 "nbformat_minor": 2
}
