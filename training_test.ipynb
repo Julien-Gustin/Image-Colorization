{
 "cells": [
  {
   "cell_type": "markdown",
   "metadata": {},
   "source": [
    "# Trying to train UNet with L1 loss"
   ]
  },
  {
   "cell_type": "code",
   "execution_count": null,
   "metadata": {},
   "outputs": [],
   "source": [
    "import torch\n",
    "import torch.utils.data as data\n",
    "from data.dataset import *\n",
    "from models.generator import *\n",
    "from utils.images import *\n",
    "from models.trainer import *"
   ]
  },
  {
   "cell_type": "code",
   "execution_count": null,
   "metadata": {},
   "outputs": [],
   "source": [
    "dataset_train = CocoLab_cpu('data/Coco', size=256, train=True, dumb=True)\n",
    "loader_train = data.DataLoader(dataset_train, batch_size=4, shuffle=True, num_workers=1)\n",
    "\n",
    "dataset_test = CocoLab_cpu('data/Coco', size=256, train=False, dumb=True)\n",
    "loader_test = data.DataLoader(dataset_test, batch_size=4, shuffle=True, num_workers=1)\n",
    "\n",
    "generator = UNet(1, 2)"
   ]
  },
  {
   "cell_type": "code",
   "execution_count": null,
   "metadata": {},
   "outputs": [],
   "source": [
    "# one image from the training set\n",
    "L, ab = next(iter(loader_test))\n",
    "\n",
    "Lab = torch.concat((L, ab), 1)\n",
    "tensor_to_pil(Lab)[0]"
   ]
  },
  {
   "cell_type": "code",
   "execution_count": null,
   "metadata": {},
   "outputs": [],
   "source": [
    "# trying the prediction of the Unet before training\n",
    "generator.eval()\n",
    "ab_pred_notrain = generator(L).detach()\n",
    "Lab_pred_notrain = torch.concat((L, ab_pred_notrain), 1)"
   ]
  },
  {
   "cell_type": "code",
   "execution_count": null,
   "metadata": {},
   "outputs": [],
   "source": [
    "tensor_to_pil(Lab_pred_notrain)[0]"
   ]
  },
  {
   "cell_type": "code",
   "execution_count": null,
   "metadata": {},
   "outputs": [],
   "source": [
    "train_avg_loss, test_avg_loss = train_G_L1(500, generator, loader_train, loader_test)"
   ]
  },
  {
   "cell_type": "code",
   "execution_count": null,
   "metadata": {},
   "outputs": [],
   "source": [
    "plt.figure(figsize=(16, 6))\n",
    "plt.subplot(1, 2, 1)\n",
    "plt.title('Losses')\n",
    "plt.plot(train_avg_loss)\n",
    "plt.plot(test_avg_loss)\n",
    "plt.grid()\n",
    "plt.legend(['Train', 'Test'])\n",
    "plt.xlabel('Epoch')\n",
    "plt.ylabel('Loss (L1)')\n",
    "\n",
    "\n",
    "plt.show()"
   ]
  },
  {
   "cell_type": "code",
   "execution_count": null,
   "metadata": {},
   "outputs": [],
   "source": [
    "# trying the prediction of the Unet after training\n",
    "generator.eval()\n",
    "ab_pred_train = generator(L).detach()\n",
    "Lab_pred_train = torch.concat((L, ab_pred_train), 1)\n"
   ]
  },
  {
   "cell_type": "code",
   "execution_count": null,
   "metadata": {},
   "outputs": [],
   "source": [
    "tensor_to_pil(Lab_pred_train)[0]"
   ]
  },
  {
   "cell_type": "code",
   "execution_count": null,
   "metadata": {},
   "outputs": [],
   "source": []
  }
 ],
 "metadata": {
  "interpreter": {
   "hash": "065a011842d8ebed5411ae20512699c924712cb68d88b87277223edbfe72c920"
  },
  "kernelspec": {
   "display_name": "Python 3.9.10 ('deep_learning')",
   "language": "python",
   "name": "python3"
  },
  "language_info": {
   "codemirror_mode": {
    "name": "ipython",
    "version": 3
   },
   "file_extension": ".py",
   "mimetype": "text/x-python",
   "name": "python",
   "nbconvert_exporter": "python",
   "pygments_lexer": "ipython3",
   "version": "3.9.10"
  },
  "orig_nbformat": 4
 },
 "nbformat": 4,
 "nbformat_minor": 2
}
